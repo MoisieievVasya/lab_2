{
 "cells": [
  {
   "metadata": {},
   "cell_type": "markdown",
   "source": "**Завдання 3.** Використання діагоналізації, власних значень та векторів в криптографії.",
   "id": "bdb40596fa46943d"
  },
  {
   "metadata": {},
   "cell_type": "markdown",
   "source": "Кодування та декодування повідомлення за допомогою діагоналізації матриці ключа. ",
   "id": "9eb4fc01a821c4eb"
  },
  {
   "metadata": {
    "ExecuteTime": {
     "end_time": "2024-06-18T22:32:24.500944Z",
     "start_time": "2024-06-18T22:32:24.488803Z"
    }
   },
   "cell_type": "code",
   "source": [
    "import numpy as np\n",
    "\n",
    "message = \"Hello, World!\"\n",
    "key_matrix = np.random.randint(0, 256, (len(message), len(message)))\n",
    "\n",
    "chunks = [message[i:i + len(message)] for i in range(0, len(message), len(message))]\n",
    "\n",
    "eigenvalues, eigenvectors = np.linalg.eig(key_matrix)\n",
    "diagonalized_key_matrix = np.dot(np.dot(eigenvectors, np.diag(eigenvalues)), np.linalg.inv(eigenvectors))\n",
    "\n",
    "encrypted_vectors = []\n",
    "\n",
    "for chunk in chunks:\n",
    "    vector = np.array([ord(char) for char in chunk])\n",
    "    encrypted_vector = np.dot(diagonalized_key_matrix, vector)\n",
    "    encrypted_vectors.append(encrypted_vector)\n",
    "\n",
    "encrypted_vectors"
   ],
   "id": "b40fd624391f33e2",
   "outputs": [
    {
     "data": {
      "text/plain": [
       "[array([141014.-2.77491025e-11j, 166612.-3.22106101e-11j,\n",
       "        183491.-2.44712077e-11j, 150121.-2.25999106e-11j,\n",
       "        168342.-3.15212197e-11j, 132061.-1.91352465e-11j,\n",
       "        131284.-2.09525267e-11j, 139633.-8.66469340e-12j,\n",
       "        128001.-2.37551428e-11j, 176897.-2.96229750e-11j,\n",
       "        154569.-1.75870777e-11j, 162838.-2.30840733e-11j,\n",
       "        129075.-2.78827238e-11j])]"
      ]
     },
     "execution_count": 11,
     "metadata": {},
     "output_type": "execute_result"
    }
   ],
   "execution_count": 11
  },
  {
   "metadata": {
    "ExecuteTime": {
     "end_time": "2024-06-18T22:33:56.153450Z",
     "start_time": "2024-06-18T22:33:56.143245Z"
    }
   },
   "cell_type": "code",
   "source": [
    "decrypted_vector = np.dot(np.linalg.inv(diagonalized_key_matrix), encrypted_vectors[0])\n",
    "decrypted_message = ''.join([chr(int(np.round(char))) for char in decrypted_vector])\n",
    "\n",
    "decrypted_message"
   ],
   "id": "2c60a3cb6567f948",
   "outputs": [
    {
     "name": "stderr",
     "output_type": "stream",
     "text": [
      "C:\\Users\\Vasya\\AppData\\Local\\Temp\\ipykernel_25200\\2823662202.py:2: ComplexWarning: Casting complex values to real discards the imaginary part\n",
      "  decrypted_message = ''.join([chr(int(np.round(char))) for char in decrypted_vector])\n"
     ]
    },
    {
     "data": {
      "text/plain": [
       "'Hello, World!'"
      ]
     },
     "execution_count": 15,
     "metadata": {},
     "output_type": "execute_result"
    }
   ],
   "execution_count": 15
  },
  {
   "metadata": {},
   "cell_type": "code",
   "outputs": [],
   "execution_count": null,
   "source": "",
   "id": "9744edcddc4549f3"
  }
 ],
 "metadata": {
  "kernelspec": {
   "display_name": "Python 3",
   "language": "python",
   "name": "python3"
  },
  "language_info": {
   "codemirror_mode": {
    "name": "ipython",
    "version": 2
   },
   "file_extension": ".py",
   "mimetype": "text/x-python",
   "name": "python",
   "nbconvert_exporter": "python",
   "pygments_lexer": "ipython2",
   "version": "2.7.6"
  }
 },
 "nbformat": 4,
 "nbformat_minor": 5
}
